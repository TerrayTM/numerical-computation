{
 "cells": [
  {
   "cell_type": "markdown",
   "metadata": {},
   "source": [
    "# Page Rank"
   ]
  },
  {
   "cell_type": "code",
   "execution_count": 1,
   "metadata": {},
   "outputs": [],
   "source": [
    "import numpy as np\n",
    "from scipy.sparse import dok_matrix\n",
    "from copy import deepcopy\n",
    "import matplotlib.pyplot as plt"
   ]
  },
  {
   "cell_type": "code",
   "execution_count": 2,
   "metadata": {},
   "outputs": [],
   "source": [
    "def SparseMatMult(G, x):\n",
    "    '''\n",
    "      y = SparseMatMult(G, x)\n",
    "      \n",
    "      Multiplies a vector (x) by a sparse matrix G,\n",
    "      such that y = G @ x .\n",
    "      \n",
    "      Inputs:\n",
    "        G is an NxM dictionary-of-keys (dok) sparse matrix\n",
    "        x is an M-vector\n",
    "      \n",
    "      Output:\n",
    "        y is an N-vector\n",
    "    '''\n",
    "    rows, cols = G.nonzero()\n",
    "    y = np.zeros(np.shape(G)[0])\n",
    "\n",
    "    for i, j in zip(rows, cols):\n",
    "        y[i] += G[i, j] * x[j]\n",
    "\n",
    "    return y"
   ]
  },
  {
   "cell_type": "markdown",
   "metadata": {},
   "source": [
    "## Page Rank Implementation"
   ]
  },
  {
   "cell_type": "code",
   "execution_count": 3,
   "metadata": {
    "code_folding": []
   },
   "outputs": [],
   "source": [
    "def PageRank(G, alpha):\n",
    "    '''\n",
    "     p, iters = PageRank(G, alpha)\n",
    "\n",
    "     Computes the Google Page-rank for the network in the adjacency matrix G.\n",
    "\n",
    "     Input\n",
    "       G     is an RxR adjacency matrix, G[i,j] = 1 iff node j projects to node i\n",
    "             Note: G must be a dictionary-of-keys (dok) sparse matrix\n",
    "       alpha is a scalar between 0 and 1\n",
    "\n",
    "     Output\n",
    "       p     is a probability vector containing the Page-rank of each node\n",
    "       iters is the number of iterations used to achieve a change tolerance\n",
    "             of 1e-8 (changes to elements of p are all smaller than 1e-8)\n",
    "    '''\n",
    "    rows, cols = G.nonzero()\n",
    "    \n",
    "    # Sum each column up and put sum in an array\n",
    "    # column_totals[j] is the sum of the jth column in G\n",
    "    column_totals = G.sum(axis=0).A1\n",
    "\n",
    "    # R is number of nodes in the network\n",
    "    R = np.shape(G)[0]\n",
    "    \n",
    "    # Initialize empty R x R sparse matrix for transition probability\n",
    "    P = dok_matrix((R, R))\n",
    "    \n",
    "    # Generate the transition probability matrix\n",
    "    for i, j in zip(rows,cols):\n",
    "        P[i, j] = G[i, j] / column_totals[j]\n",
    "    \n",
    "    # Initialize p with uniform probability\n",
    "    p = np.ones(R) / R\n",
    "    \n",
    "    iterations = 0\n",
    "    d = np.zeros(R)\n",
    "    \n",
    "    # Fill in d vector\n",
    "    for i in range(R):\n",
    "        if i not in cols:\n",
    "            d[i] = 1\n",
    "    \n",
    "    # Compute factor\n",
    "    factor = alpha / R * np.ones(R)\n",
    "    \n",
    "    # Compute constant vector\n",
    "    constant = (1 - alpha) / R * np.ones(R)\n",
    "    \n",
    "    while True:\n",
    "        iterations += 1\n",
    "        previous = p\n",
    "        \n",
    "        # Compute our new p\n",
    "        p = alpha * SparseMatMult(P, p) + d @ p * factor + constant\n",
    "\n",
    "        # If p converges then break\n",
    "        if (abs(p - previous) <= 10e-8).all():\n",
    "            break\n",
    "    \n",
    "    return p, iterations"
   ]
  },
  {
   "cell_type": "markdown",
   "metadata": {},
   "source": [
    "## Demo Network"
   ]
  },
  {
   "cell_type": "code",
   "execution_count": 4,
   "metadata": {},
   "outputs": [
    {
     "name": "stdout",
     "output_type": "stream",
     "text": [
      "[[0.   0.06 0.47 0.   0.09 0.   0.   0.   0.   0.   0.   0.  ]\n",
      " [0.38 0.   0.29 0.   0.   0.09 0.   0.   0.   0.   0.   0.  ]\n",
      " [0.38 0.41 0.   0.08 0.   0.   0.   0.   0.   0.   0.   0.  ]\n",
      " [0.   0.   0.24 0.   0.04 0.28 0.   0.   0.   0.   0.   0.  ]\n",
      " [0.24 0.   0.   0.42 0.   0.19 0.13 0.   0.   0.   0.   0.06]\n",
      " [0.   0.53 0.   0.5  0.09 0.   0.   0.15 0.   0.   0.   0.18]\n",
      " [0.   0.   0.   0.   0.39 0.   0.   0.21 0.24 0.3  0.   0.47]\n",
      " [0.   0.   0.   0.   0.   0.22 0.17 0.   0.24 0.4  0.33 0.29]\n",
      " [0.   0.   0.   0.   0.   0.   0.23 0.21 0.   0.05 0.07 0.  ]\n",
      " [0.   0.   0.   0.   0.   0.   0.27 0.1  0.32 0.   0.6  0.  ]\n",
      " [0.   0.   0.   0.   0.   0.   0.   0.18 0.2  0.25 0.   0.  ]\n",
      " [0.   0.   0.   0.   0.39 0.22 0.2  0.15 0.   0.   0.   0.  ]]\n"
     ]
    },
    {
     "data": {
      "text/plain": [
       "<12x12 sparse matrix of type '<class 'numpy.float64'>'\n",
       "\twith 48 stored elements in Dictionary Of Keys format>"
      ]
     },
     "execution_count": 4,
     "metadata": {},
     "output_type": "execute_result"
    }
   ],
   "source": [
    "# Define our connections as a map so it's easier to input\n",
    "# Later we transform this map to a sparse matrix to represent the network\n",
    "# The key (x, y) means xy is an arc\n",
    "# The value is the weight of the arc\n",
    "connections = {\n",
    "    ('A', 'B'): 0.38,\n",
    "    ('A', 'C'): 0.38,\n",
    "    ('A', 'E'): 0.24,\n",
    "    ('B', 'A'): 0.06,\n",
    "    ('B', 'C'): 0.41,\n",
    "    ('B', 'F'): 0.53,\n",
    "    ('C', 'A'): 0.47,\n",
    "    ('C', 'B'): 0.29,\n",
    "    ('C', 'D'): 0.24,\n",
    "    ('D', 'C'): 0.08,\n",
    "    ('D', 'E'): 0.42,\n",
    "    ('D', 'F'): 0.50,\n",
    "    ('E', 'A'): 0.09,\n",
    "    ('E', 'D'): 0.04,\n",
    "    ('E', 'F'): 0.09,\n",
    "    ('E', 'G'): 0.39,\n",
    "    ('E', 'L'): 0.39,\n",
    "    ('F', 'B'): 0.09,\n",
    "    ('F', 'D'): 0.28,\n",
    "    ('F', 'E'): 0.19,\n",
    "    ('F', 'L'): 0.22,\n",
    "    ('F', 'H'): 0.22,\n",
    "    ('G', 'E'): 0.13,\n",
    "    ('G', 'L'): 0.20,\n",
    "    ('G', 'H'): 0.17,\n",
    "    ('G', 'J'): 0.27,\n",
    "    ('G', 'I'): 0.23,\n",
    "    ('H', 'F'): 0.15,\n",
    "    ('H', 'L'): 0.15,\n",
    "    ('H', 'G'): 0.21,\n",
    "    ('H', 'I'): 0.21,\n",
    "    ('H', 'K'): 0.18,\n",
    "    ('H', 'J'): 0.10,\n",
    "    ('I', 'G'): 0.24,\n",
    "    ('I', 'H'): 0.24,\n",
    "    ('I', 'J'): 0.32,\n",
    "    ('I', 'K'): 0.20,\n",
    "    ('J', 'H'): 0.40,\n",
    "    ('J', 'G'): 0.30,\n",
    "    ('J', 'I'): 0.05,\n",
    "    ('J', 'K'): 0.25,\n",
    "    ('K', 'I'): 0.07,\n",
    "    ('K', 'H'): 0.33,\n",
    "    ('K', 'J'): 0.60,\n",
    "    ('L', 'F'): 0.18,\n",
    "    ('L', 'E'): 0.06,\n",
    "    ('L', 'G'): 0.47,\n",
    "    ('L', 'H'): 0.29\n",
    "}\n",
    "\n",
    "# Map each node name to a unique index\n",
    "mapping = {\n",
    "    name: index for index, name in enumerate(sorted(set(\n",
    "        key[0] for key in connections.keys()\n",
    "    )))\n",
    "}\n",
    "\n",
    "# Get the total number of nodes in the network\n",
    "nodes = len(mapping)\n",
    "\n",
    "# Create empty sparse matrix\n",
    "network = dok_matrix((nodes, nodes))\n",
    "\n",
    "# Fill sparse matrix\n",
    "for connection, weight in connections.items():\n",
    "    a, b = connection\n",
    "    network[mapping[b], mapping[a]] = weight\n",
    "\n",
    "# See our sparse matrix\n",
    "# For visualization purposes only\n",
    "print(network.todense())\n",
    "\n",
    "network"
   ]
  },
  {
   "cell_type": "markdown",
   "metadata": {},
   "source": [
    "## Run PageRank on Network"
   ]
  },
  {
   "cell_type": "code",
   "execution_count": 5,
   "metadata": {},
   "outputs": [
    {
     "data": {
      "text/plain": [
       "(array([0.01188415, 0.01467652, 0.01257699, 0.02554502, 0.05658161,\n",
       "        0.07236876, 0.17794856, 0.18916004, 0.09460515, 0.15178539,\n",
       "        0.09091615, 0.10195168]), 45)"
      ]
     },
     "execution_count": 5,
     "metadata": {},
     "output_type": "execute_result"
    },
    {
     "data": {
      "image/png": "[encoded data removed]",
      "text/plain": [
       "<Figure size 432x288 with 1 Axes>"
      ]
     },
     "metadata": {
      "needs_background": "light"
     },
     "output_type": "display_data"
    }
   ],
   "source": [
    "# Run page rank on network\n",
    "result, iterations = PageRank(network, 1)\n",
    "\n",
    "plt.title('Relative Influence of Node')\n",
    "plt.xlabel('Node Name')\n",
    "plt.ylabel('Relative Influence')\n",
    "plt.bar(list(range(result.shape[0])), result, tick_label=list(mapping.keys()))\n",
    "\n",
    "(result, iterations)"
   ]
  }
 ],
 "metadata": {
  "kernelspec": {
   "display_name": "Python 3",
   "language": "python",
   "name": "python3"
  },
  "language_info": {
   "codemirror_mode": {
    "name": "ipython",
    "version": 3
   },
   "file_extension": ".py",
   "mimetype": "text/x-python",
   "name": "python",
   "nbconvert_exporter": "python",
   "pygments_lexer": "ipython3",
   "version": "3.7.6"
  }
 },
 "nbformat": 4,
 "nbformat_minor": 2
}
