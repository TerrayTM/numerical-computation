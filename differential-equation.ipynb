{
 "cells": [
  {
   "cell_type": "markdown",
   "metadata": {},
   "source": [
    "# ODE Golf Demo"
   ]
  },
  {
   "cell_type": "code",
   "execution_count": 1,
   "metadata": {},
   "outputs": [],
   "source": [
    "import numpy as np\n",
    "from copy import deepcopy\n",
    "import matplotlib.pyplot as plt"
   ]
  },
  {
   "cell_type": "code",
   "execution_count": 2,
   "metadata": {},
   "outputs": [],
   "source": [
    "def Ground(d):\n",
    "    '''\n",
    "     h = Ground(d)\n",
    "     \n",
    "     Returns the height (in metres) of the ground at a horizontal distance\n",
    "     d (metres) from the origin.\n",
    "    '''\n",
    "    return 2. * (np.cos(d / 4.) - np.sin(d / 11.) - 1)\n",
    "\n",
    "def GroundSlope(d):\n",
    "    '''\n",
    "     h = GroundSlope(d)\n",
    "     \n",
    "     Returns the slope of the ground at a horizontal distance\n",
    "     d (metres) from the origin.\n",
    "    '''\n",
    "    return 2. * (-1. / 4 * np.sin(d / 4) - 1. / 11 * np.cos(d / 11.))"
   ]
  },
  {
   "cell_type": "markdown",
   "metadata": {},
   "source": [
    "## ODE Solver Implementation"
   ]
  },
  {
   "cell_type": "code",
   "execution_count": 3,
   "metadata": {},
   "outputs": [],
   "source": [
    "def solve_ode(f, tspan, y0, h, event=(lambda t, y: 1)):\n",
    "    '''\n",
    "     t, y = solve_ode(f, tspan, y0, h, event=[])\n",
    "    \n",
    "     Numerically solves the initial value problem\n",
    "    \n",
    "        dy(t) / dt = f(t,y)\n",
    "            y(0) = y0\n",
    "    \n",
    "     using the Modified Euler time-stepping method.\n",
    "    \n",
    "     Input\n",
    "       f       a Python dynamics function with calling sequence\n",
    "                  dydt = f(t, y)\n",
    "       tspan   2-tuple giving the start and end times, [start, end]\n",
    "       y0      initial state of the system (as a 1D vector)\n",
    "       h       the time step to use (this is not adaptive time stepping)\n",
    "       events  an event function with calling sequence\n",
    "                  val = events(t, y)\n",
    "               The computation stops as soon as a negative value is\n",
    "               returned by the event function.\n",
    "    \n",
    "     Output\n",
    "       t       1D vector holding time stamps\n",
    "       y       an array that holds one state vector per row (corresponding\n",
    "               to the time stamps)\n",
    "    '''\n",
    "    # Initialize initial variables\n",
    "    t = tspan[0]\n",
    "    y = deepcopy(y0)\n",
    "    \n",
    "    # Initialize output arrays, tlst and ylst\n",
    "    tlst = []\n",
    "    ylst = []\n",
    "    \n",
    "    # Include tspan[0] and y0 in our output arrays\n",
    "    tlst.append(t)\n",
    "    ylst.append(list(y))\n",
    "    \n",
    "    # While current t is within given timespan, perform modified Euler\n",
    "    while t <= tspan[1]:\n",
    "        # Compute first slope\n",
    "        f_1 = f(t, y)\n",
    "        \n",
    "        # Compute a Euler step\n",
    "        y_euler = y + h * f_1\n",
    "        \n",
    "        # Increment our time by h\n",
    "        t += h\n",
    "        \n",
    "        # Compute second slope\n",
    "        f_2 = f(t, y_euler)\n",
    "        \n",
    "        # Take average of the two slopes to approximate next y\n",
    "        y += 0.5 * h * (f_1 + f_2)\n",
    "        \n",
    "        # Compute event value\n",
    "        event_value = event(t, y)\n",
    "        \n",
    "        # Stop computation as soon as a negative value is returned\n",
    "        if event_value < 0:\n",
    "            # We need to linearly interpolate the last two points\n",
    "            # to find a more accurate estimate for the time and state\n",
    "            # Compute previous event value which is >= 0\n",
    "            previous = event(tlst[-1], ylst[-1])\n",
    "            \n",
    "            # Key idea is for example if our \n",
    "            # previous event value is 3 and current\n",
    "            # event value is -1, then the interpolated point should be\n",
    "            # 3/4 of the way from previous point to current point\n",
    "            # Calculate the difference between previous event value and current\n",
    "            # Note that current event value is negative, so size is positive\n",
    "            size = previous - event_value\n",
    "            \n",
    "            # Given last point and current point, we find the slope\n",
    "            slope = (y - np.array(ylst[-1])) / h\n",
    "            \n",
    "            # Our step will be a fraction of h depending on event values\n",
    "            step = h * (previous / size)\n",
    "            \n",
    "            # Solve for interpolated t and y\n",
    "            interpolated_t = t + step\n",
    "            interpolated_y = ylst[-1] + step * slope\n",
    "            \n",
    "            # Add interpolated t and y into our output\n",
    "            tlst.append(interpolated_t)\n",
    "            ylst.append(list(interpolated_y))\n",
    "            \n",
    "            break\n",
    "\n",
    "        # Add t and y to output\n",
    "        tlst.append(t)\n",
    "        ylst.append(list(y))\n",
    "\n",
    "    return np.array(tlst), np.array(ylst)"
   ]
  },
  {
   "cell_type": "markdown",
   "metadata": {},
   "source": [
    "## Dynamics Function"
   ]
  },
  {
   "cell_type": "code",
   "execution_count": 4,
   "metadata": {},
   "outputs": [],
   "source": [
    "def projectile(t, z):\n",
    "    \n",
    "    # Let z1 = x'(t)\n",
    "    # Let z2 = y'(t)\n",
    "    # Then we have\n",
    "    # z1' = -K * z1\n",
    "    # z2' = -g - K * z2\n",
    "    # Input z consists of (x, y, x velocity, y velocity)\n",
    "    # dz/dt = (x velocity, y velocity, z1', z2')\n",
    "    \n",
    "    return np.array([z[2], z[3], -0.3 * z[2], -9.81 - 0.3 * z[3]])"
   ]
  },
  {
   "cell_type": "markdown",
   "metadata": {},
   "source": [
    "## Event Function"
   ]
  },
  {
   "cell_type": "code",
   "execution_count": 5,
   "metadata": {},
   "outputs": [],
   "source": [
    "def projectile_events(t, z):\n",
    "    \n",
    "    # z[0] is current x value\n",
    "    # z[1] is current y value\n",
    "    # Ground function returns height of ground at current x\n",
    "    # If ground height is bigger than current y value then that means\n",
    "    # ball has hit the ground, thus z[1] - Ground(z[0]) will change sign\n",
    "    \n",
    "    return z[1] - Ground(z[0])"
   ]
  },
  {
   "cell_type": "markdown",
   "metadata": {},
   "source": [
    "## Simulate Golf"
   ]
  },
  {
   "cell_type": "code",
   "execution_count": 6,
   "metadata": {},
   "outputs": [],
   "source": [
    "def simulate_ball(theta=50, show_graph=True):\n",
    "    # Initialize variables\n",
    "    S = 58\n",
    "    tspan = [0, 30]\n",
    "    h = 0.05\n",
    "    theta_rad = theta / 180. * np.pi\n",
    "    yStart = np.array([0, 0, S * np.cos(theta_rad), S * np.sin(theta_rad)])\n",
    "    t = None\n",
    "    y = None\n",
    "\n",
    "    if show_graph:\n",
    "        # Plot the ground\n",
    "        x = np.linspace(-10, 180, 300)\n",
    "        hills = Ground(x)\n",
    "        plt.figure(figsize=[10,4])\n",
    "        plt.plot(x,hills, 'k')\n",
    "        plt.axis('equal')\n",
    "\n",
    "        # Plot initial ball position\n",
    "        plt.plot([0],[0], 'ko')\n",
    "\n",
    "    # Simulate first 3 flights\n",
    "    for _ in range(3):\n",
    "        # Call ODE solver\n",
    "        t,y = solve_ode(projectile, tspan, yStart, h, projectile_events)\n",
    "\n",
    "        # Get ground slope at where ball landed\n",
    "        # Convert slope into a vector\n",
    "        vector = np.array([1, GroundSlope(y[-1][0])])\n",
    "\n",
    "        # Normalize vector\n",
    "        u = vector / np.linalg.norm(vector)\n",
    "\n",
    "        # Find perpendicular vector\n",
    "        U = np.array([-u[1], u[0]])\n",
    "\n",
    "        # Find the incident velocity\n",
    "        v = np.array([y[-1][2], y[-1][3]])\n",
    "\n",
    "        # Compute new after bounce velocity using formula\n",
    "        V = 0.85 * (v.dot(u) * u - v.dot(U) * U)\n",
    "\n",
    "        # Update yStart to have positions at where the ball\n",
    "        # has landed and give it the new velocity for after bounce\n",
    "        yStart = np.array([y[-1][0], y[-1][1], V[0], V[1]])\n",
    "        \n",
    "        if show_graph:\n",
    "            # Plot ball's trajectory\n",
    "            plt.plot(y[:,0], y[:,1], 'b')\n",
    "\n",
    "    if show_graph:\n",
    "        # Plot final ball position\n",
    "        plt.plot(y[-1,0], y[-1,1], 'ko')\n",
    "\n",
    "        # Graph settings\n",
    "        plt.title(r'$\\theta$ = '+str(theta)+'$^\\circ$')\n",
    "        plt.xlabel('Distance (m)')\n",
    "        plt.ylabel('Height (m)')\n",
    "    \n",
    "    # Return distance of ball travelled\n",
    "    # Useful for question e)\n",
    "    return y[-1, 0]"
   ]
  },
  {
   "cell_type": "code",
   "execution_count": 7,
   "metadata": {},
   "outputs": [
    {
     "data": {
      "text/plain": [
       "139.867332501238"
      ]
     },
     "execution_count": 7,
     "metadata": {},
     "output_type": "execute_result"
    },
    {
     "data": {
      "image/png": "[encoded data removed]",
      "text/plain": [
       "<Figure size 720x288 with 1 Axes>"
      ]
     },
     "metadata": {
      "needs_background": "light"
     },
     "output_type": "display_data"
    }
   ],
   "source": [
    "simulate_ball()"
   ]
  },
  {
   "cell_type": "markdown",
   "metadata": {},
   "source": [
    "## Best Angle"
   ]
  },
  {
   "cell_type": "code",
   "execution_count": 8,
   "metadata": {},
   "outputs": [
    {
     "name": "stdout",
     "output_type": "stream",
     "text": [
      "Best Angle: 32\n",
      "Best Distance: 164.11598819385546\n"
     ]
    },
    {
     "data": {
      "image/png": "[encoded data removed]",
      "text/plain": [
       "<Figure size 720x288 with 1 Axes>"
      ]
     },
     "metadata": {
      "needs_background": "light"
     },
     "output_type": "display_data"
    }
   ],
   "source": [
    "best_distance = -float('inf')\n",
    "best_angle = None\n",
    "\n",
    "# Try all degrees from 0 to 90\n",
    "for i in range(91):\n",
    "    # Find distance of ball travelled\n",
    "    distance = simulate_ball(i, False)\n",
    "    \n",
    "    # If angle gives more distance, record it\n",
    "    if distance > best_distance:\n",
    "        best_distance = distance\n",
    "        best_angle = i\n",
    "\n",
    "print('Best Angle: ' + str(best_angle))\n",
    "print('Best Distance: ' + str(simulate_ball(best_angle)))"
   ]
  }
 ],
 "metadata": {
  "kernelspec": {
   "display_name": "Python 3",
   "language": "python",
   "name": "python3"
  },
  "language_info": {
   "codemirror_mode": {
    "name": "ipython",
    "version": 3
   },
   "file_extension": ".py",
   "mimetype": "text/x-python",
   "name": "python",
   "nbconvert_exporter": "python",
   "pygments_lexer": "ipython3",
   "version": "3.7.6"
  },
  "toc": {
   "nav_menu": {},
   "number_sections": true,
   "sideBar": true,
   "skip_h1_title": false,
   "title_cell": "Table of Contents",
   "title_sidebar": "Contents",
   "toc_cell": false,
   "toc_position": {},
   "toc_section_display": true,
   "toc_window_display": false
  }
 },
 "nbformat": 4,
 "nbformat_minor": 2
}
